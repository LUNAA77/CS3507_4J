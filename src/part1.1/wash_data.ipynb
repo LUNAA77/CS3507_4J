{
 "cells": [
  {
   "cell_type": "markdown",
   "metadata": {},
   "source": [
    "# Import Modules"
   ]
  },
  {
   "cell_type": "code",
   "execution_count": 1,
   "metadata": {},
   "outputs": [
    {
     "name": "stderr",
     "output_type": "stream",
     "text": [
      "/Users/xuy/anaconda3/envs/xuy/lib/python3.11/site-packages/pandas/core/arrays/masked.py:60: UserWarning: Pandas requires version '1.3.6' or newer of 'bottleneck' (version '1.3.5' currently installed).\n",
      "  from pandas.core import (\n"
     ]
    }
   ],
   "source": [
    "import pandas as pd\n",
    "import re"
   ]
  },
  {
   "cell_type": "code",
   "execution_count": 2,
   "metadata": {},
   "outputs": [
    {
     "name": "stdout",
     "output_type": "stream",
     "text": [
      "data length: 1600000\n",
      "text: @switchfoot http://twitpic.com/2y1zl - Awww, that's a bummer.  You shoulda got David Carr of Third Day to do it. ;D\n",
      "label: 0\n"
     ]
    }
   ],
   "source": [
    "file_name = 'data/twitter/training1600000.csv'\n",
    "df = pd.read_csv(file_name, dtype={'labels': int, 'datas': str},header=None)\n",
    "# extract df[0] as emotion labels\n",
    "labels = df.iloc[:, 0].tolist()\n",
    "labels = [1 if label == 4 else 0 for label in labels]\n",
    "# extract df[5] as text inputs\n",
    "datas = df.iloc[:, 5].tolist()\n",
    "\n",
    "data_len = len(datas)\n",
    "print('data length:', data_len)\n",
    "print('text:', datas[0])    \n",
    "print('label:', labels[0])"
   ]
  },
  {
   "cell_type": "code",
   "execution_count": 3,
   "metadata": {},
   "outputs": [
    {
     "name": "stdout",
     "output_type": "stream",
     "text": [
      "data length: 1600000\n"
     ]
    }
   ],
   "source": [
    "empty_indices = []\n",
    "\n",
    "# for i in range(data_len):\n",
    "#     # wash data\n",
    "#     datas[i] = re.sub('@\\w+', repl='', string=datas[i]).strip()\n",
    "#     datas[i] = re.sub('@\\s\\w+', repl='', string=datas[i]).strip()\n",
    "#     datas[i] = re.sub('#\\w+', repl='', string=datas[i]).strip()\n",
    "#     datas[i] = re.sub('http[s]?[^\\s\\n]*', '', datas[i]).strip()\n",
    "#     datas[i] = re.sub('&\\w+', '', datas[i]).strip()\n",
    "#     datas[i] = re.sub(r'\\b[A-Za-z0-9._%+-]+@[A-Za-z0-9.-]+\\.[A-Z|a-z]{2,}\\b', '', datas[i]).strip()\n",
    "#     datas[i] = re.sub(r'<.*?>', '', datas[i]).strip()\n",
    "#     datas[i] = re.sub(r'\\b\\d{3}[-.]?\\d{3}[-.]?\\d{4}\\b', '', datas[i]).strip()\n",
    "#     datas[i] = re.sub(r'[^\\w\\s]', '', datas[i]).strip()\n",
    "#     datas[i] = re.sub(r'\\s+', ' ', datas[i]).strip()\n",
    "#     datas[i] = datas[i].lower()\n",
    "\n",
    "#     # check if the data is empty\n",
    "#     if datas[i] == '':\n",
    "#         empty_indices.append(i)\n",
    "\n",
    "# remove empty data and corresponding labels\n",
    "for index in sorted(empty_indices, reverse=True):\n",
    "    del datas[index]\n",
    "    del labels[index]\n",
    "    \n",
    "print('data length:', len(datas))"
   ]
  },
  {
   "cell_type": "markdown",
   "metadata": {},
   "source": [
    "# Save washed data"
   ]
  },
  {
   "cell_type": "code",
   "execution_count": 4,
   "metadata": {},
   "outputs": [],
   "source": [
    "# 保存成csv文件\n",
    "washed_data = pd.DataFrame({\n",
    "    'labels': labels,\n",
    "    'datas': datas\n",
    "})\n",
    "washed_data.to_csv('data/twitter/unwashed_data.csv', index=False)"
   ]
  }
 ],
 "metadata": {
  "kernelspec": {
   "display_name": "CS3307",
   "language": "python",
   "name": "python3"
  },
  "language_info": {
   "codemirror_mode": {
    "name": "ipython",
    "version": 3
   },
   "file_extension": ".py",
   "mimetype": "text/x-python",
   "name": "python",
   "nbconvert_exporter": "python",
   "pygments_lexer": "ipython3",
   "version": "3.11.9"
  }
 },
 "nbformat": 4,
 "nbformat_minor": 2
}
